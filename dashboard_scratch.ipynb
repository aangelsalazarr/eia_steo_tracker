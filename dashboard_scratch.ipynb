{
 "cells": [
  {
   "cell_type": "markdown",
   "metadata": {},
   "source": [
    "Purpose of this notebook is to serves as a scratch pad for the development of functions"
   ]
  },
  {
   "cell_type": "markdown",
   "metadata": {},
   "source": [
    "the function below aims to process data so as to only return the most recent forecast"
   ]
  },
  {
   "cell_type": "code",
   "execution_count": 1,
   "metadata": {},
   "outputs": [],
   "source": [
    "import pandas as pd\n",
    "import seaborn as sns\n",
    "import numpy as np\n",
    "import matplotlib.pyplot as plt\n",
    "import seaborn as sns"
   ]
  },
  {
   "cell_type": "code",
   "execution_count": 5,
   "metadata": {},
   "outputs": [
    {
     "name": "stdout",
     "output_type": "stream",
     "text": [
      "  forecast_period\n",
      "0      2020-01-01\n",
      "1      2021-01-01\n",
      "2      2022-01-01\n",
      "3      2023-01-01\n",
      "4      2024-01-01\n",
      "<class 'pandas.core.frame.DataFrame'>\n",
      "RangeIndex: 5 entries, 0 to 4\n",
      "Data columns (total 1 columns):\n",
      " #   Column           Non-Null Count  Dtype         \n",
      "---  ------           --------------  -----         \n",
      " 0   forecast_period  5 non-null      datetime64[ns]\n",
      "dtypes: datetime64[ns](1)\n",
      "memory usage: 172.0 bytes\n",
      "None\n"
     ]
    }
   ],
   "source": [
    "# creating fake data to test this function\n",
    "test_df = pd.DataFrame()\n",
    "\n",
    "# test dates\n",
    "test_dates = ['1/1/2020', '1/1/2021', '1/1/2022', '1/1/2023', '1/1/2024']\n",
    "\n",
    "# adding the test dates to our dataframe\n",
    "test_df['forecast_period'] = test_dates\n",
    "\n",
    "# converting our period column into a date type\n",
    "test_df['forecast_period'] = pd.to_datetime(test_df['forecast_period'])\n",
    "\n",
    "print(test_df)\n",
    "print(test_df.info())"
   ]
  },
  {
   "cell_type": "code",
   "execution_count": 7,
   "metadata": {},
   "outputs": [],
   "source": [
    "def recent_forecast(df):\n",
    "    '''\n",
    "    given a dataframe, only grab the most recent forecast data\n",
    "    '''\n",
    "\n",
    "    # grabbing the forecast date column and returning as a list\n",
    "    forecast_periods = df['forecast_period'].tolist()\n",
    "\n",
    "    # variable storing the most recent list\n",
    "    recent_period = max(forecast_periods)\n",
    "\n",
    "    # filter dataframe to only include data with most recent forecast\n",
    "    df_filtered = df[df['forecast_period'] == recent_period]\n",
    "\n",
    "    return df_filtered"
   ]
  },
  {
   "cell_type": "code",
   "execution_count": 8,
   "metadata": {},
   "outputs": [
    {
     "name": "stdout",
     "output_type": "stream",
     "text": [
      "  forecast_period\n",
      "4      2024-01-01\n"
     ]
    }
   ],
   "source": [
    "# testing to see if our function works\n",
    "x = recent_forecast(df=test_df)\n",
    "print(x)"
   ]
  }
 ],
 "metadata": {
  "kernelspec": {
   "display_name": "Python 3",
   "language": "python",
   "name": "python3"
  },
  "language_info": {
   "codemirror_mode": {
    "name": "ipython",
    "version": 3
   },
   "file_extension": ".py",
   "mimetype": "text/x-python",
   "name": "python",
   "nbconvert_exporter": "python",
   "pygments_lexer": "ipython3",
   "version": "3.12.0"
  }
 },
 "nbformat": 4,
 "nbformat_minor": 2
}
