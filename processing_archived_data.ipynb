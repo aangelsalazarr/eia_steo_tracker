{
 "cells": [
  {
   "cell_type": "code",
   "execution_count": 2,
   "metadata": {},
   "outputs": [],
   "source": [
    "import pandas as pd\n",
    "import matplotlib.pyplot as plt\n",
    "import seaborn as sns"
   ]
  },
  {
   "cell_type": "code",
   "execution_count": 16,
   "metadata": {},
   "outputs": [
    {
     "name": "stdout",
     "output_type": "stream",
     "text": [
      "              Forecast date:  \\\n",
      "0  Thursday December 7, 2023   \n",
      "1                        NaN   \n",
      "2                        NaN   \n",
      "3                 NGEPCGW_US   \n",
      "4                 CLEPCGW_US   \n",
      "\n",
      "                                          Unnamed: 1      2019 Unnamed: 3  \\\n",
      "0                                                NaN       Jan        Feb   \n",
      "1     Electric power sector (power plants larger ...       NaN        NaN   \n",
      "2                         Fossil fuel energy sources       NaN        NaN   \n",
      "3                                        Natural gas  453.4349   453.4526   \n",
      "4                                               Coal  239.5244   237.2694   \n",
      "\n",
      "  Unnamed: 4 Unnamed: 5 Unnamed: 6 Unnamed: 7 Unnamed: 8 Unnamed: 9  ...  \\\n",
      "0        Mar        Apr        May        Jun        Jul        Aug  ...   \n",
      "1        NaN        NaN        NaN        NaN        NaN        NaN  ...   \n",
      "2        NaN        NaN        NaN        NaN        NaN        NaN  ...   \n",
      "3   455.3553   456.0753    458.452   459.8761   460.0029   460.0029  ...   \n",
      "4   236.0384    234.642    233.892   233.8444   232.8619   232.8619  ...   \n",
      "\n",
      "  Unnamed: 64 Unnamed: 65 Unnamed: 66 Unnamed: 67 Unnamed: 68 Unnamed: 69  \\\n",
      "0         Mar         Apr         May         Jun         Jul         Aug   \n",
      "1         NaN         NaN         NaN         NaN         NaN         NaN   \n",
      "2         NaN         NaN         NaN         NaN         NaN         NaN   \n",
      "3     489.561     489.947       490.5    488.1923    488.6375    488.6778   \n",
      "4    177.9306    177.9306    177.4201    177.4331    177.4331    177.4331   \n",
      "\n",
      "  Unnamed: 70 Unnamed: 71 Unnamed: 72 Unnamed: 73  \n",
      "0         Sep         Oct         Nov         Dec  \n",
      "1         NaN         NaN         NaN         NaN  \n",
      "2         NaN         NaN         NaN         NaN  \n",
      "3    488.6778    489.1948    489.3148    488.9975  \n",
      "4    177.4331    177.4331    177.4331    177.0121  \n",
      "\n",
      "[5 rows x 74 columns]\n"
     ]
    }
   ],
   "source": [
    "# starting out with just a random excel file\n",
    "dec_23_elec_gen_cap = pd.read_excel(\n",
    "    \"steo_archived/dec23_base.xlsx\", sheet_name=\"7etab\", skiprows=2\n",
    ")\n",
    "\n",
    "\n",
    "# let's remove the first 2 rows\n",
    "\n",
    "print(dec_23_elec_gen_cap.head())\n"
   ]
  },
  {
   "cell_type": "markdown",
   "metadata": {},
   "source": [
    "Let's say we are looking at the sheet name 7etab...\n",
    "a few observations...\n",
    "(1) 1st column contains seriesIds\n",
    "(2) Row 3 contains Forecast Year, these are merged\n",
    "(3) Row 4 contains the month\n",
    "(4) forecast begins on the same month that the file is released/named after\n",
    "\n",
    "A few ideas....\n"
   ]
  }
 ],
 "metadata": {
  "kernelspec": {
   "display_name": "Python 3",
   "language": "python",
   "name": "python3"
  },
  "language_info": {
   "codemirror_mode": {
    "name": "ipython",
    "version": 3
   },
   "file_extension": ".py",
   "mimetype": "text/x-python",
   "name": "python",
   "nbconvert_exporter": "python",
   "pygments_lexer": "ipython3",
   "version": "3.12.0"
  }
 },
 "nbformat": 4,
 "nbformat_minor": 2
}
